{
  "nbformat": 4,
  "nbformat_minor": 0,
  "metadata": {
    "colab": {
      "name": "PyTorch-Tensors.ipynb",
      "provenance": [],
      "collapsed_sections": []
    },
    "kernelspec": {
      "name": "python3",
      "display_name": "Python 3"
    },
    "language_info": {
      "name": "python"
    }
  },
  "cells": [
    {
      "cell_type": "code",
      "execution_count": 2,
      "metadata": {
        "colab": {
          "base_uri": "https://localhost:8080/",
          "height": 35
        },
        "id": "QZN0wpvv8vhu",
        "outputId": "0ed1357e-b21d-4483-a4fa-8b729b80bb1c"
      },
      "outputs": [
        {
          "output_type": "execute_result",
          "data": {
            "text/plain": [
              "'1.10.0+cu111'"
            ],
            "application/vnd.google.colaboratory.intrinsic+json": {
              "type": "string"
            }
          },
          "metadata": {},
          "execution_count": 2
        }
      ],
      "source": [
        "import torch\n",
        "import numpy as np\n",
        "torch.__version__"
      ]
    },
    {
      "cell_type": "code",
      "source": [
        "arr_1 = np.array([1,2,3,4,5,6,7,8])\n",
        "type(arr_1)"
      ],
      "metadata": {
        "colab": {
          "base_uri": "https://localhost:8080/"
        },
        "id": "rR5wMr379G9F",
        "outputId": "58c4f1b9-b894-4a6c-e4f9-71caa01fef9a"
      },
      "execution_count": 5,
      "outputs": [
        {
          "output_type": "execute_result",
          "data": {
            "text/plain": [
              "numpy.ndarray"
            ]
          },
          "metadata": {},
          "execution_count": 5
        }
      ]
    },
    {
      "cell_type": "markdown",
      "source": [
        "#### Linked Tensor:"
      ],
      "metadata": {
        "id": "9qCiA3Fo_n7n"
      }
    },
    {
      "cell_type": "code",
      "source": [
        "ts = torch.from_numpy(arr_1)\n",
        "type(ts)"
      ],
      "metadata": {
        "colab": {
          "base_uri": "https://localhost:8080/"
        },
        "id": "G-TsvHYw9V6u",
        "outputId": "aa7552bf-4a83-4909-f15e-2f293a1275cb"
      },
      "execution_count": 7,
      "outputs": [
        {
          "output_type": "execute_result",
          "data": {
            "text/plain": [
              "torch.Tensor"
            ]
          },
          "metadata": {},
          "execution_count": 7
        }
      ]
    },
    {
      "cell_type": "code",
      "source": [
        "torch.as_tensor(arr_1)"
      ],
      "metadata": {
        "colab": {
          "base_uri": "https://localhost:8080/"
        },
        "id": "fQPRhPaV9lVP",
        "outputId": "c48150b8-9068-41ad-afac-ad76245eefda"
      },
      "execution_count": 8,
      "outputs": [
        {
          "output_type": "execute_result",
          "data": {
            "text/plain": [
              "tensor([1, 2, 3, 4, 5, 6, 7, 8])"
            ]
          },
          "metadata": {},
          "execution_count": 8
        }
      ]
    },
    {
      "cell_type": "code",
      "source": [
        "arr_2d = np.arange(0.0, 20.0)\n",
        "arr_2d"
      ],
      "metadata": {
        "colab": {
          "base_uri": "https://localhost:8080/"
        },
        "id": "gfi6u9Jt902p",
        "outputId": "55557b61-642d-4013-f7dd-3c6f2be46cd7"
      },
      "execution_count": 10,
      "outputs": [
        {
          "output_type": "execute_result",
          "data": {
            "text/plain": [
              "array([ 0.,  1.,  2.,  3.,  4.,  5.,  6.,  7.,  8.,  9., 10., 11., 12.,\n",
              "       13., 14., 15., 16., 17., 18., 19.])"
            ]
          },
          "metadata": {},
          "execution_count": 10
        }
      ]
    },
    {
      "cell_type": "code",
      "source": [
        "arr_2d = arr_2d.reshape(4, 5)\n",
        "arr_2d"
      ],
      "metadata": {
        "colab": {
          "base_uri": "https://localhost:8080/"
        },
        "id": "esvhJ9aZ98f5",
        "outputId": "d456fafd-c0d5-4fee-dcaa-9bfa9b0f129c"
      },
      "execution_count": 16,
      "outputs": [
        {
          "output_type": "execute_result",
          "data": {
            "text/plain": [
              "array([[ 0.,  1.,  2.,  3.,  4.],\n",
              "       [ 5.,  6.,  7.,  8.,  9.],\n",
              "       [10., 11., 12., 13., 14.],\n",
              "       [15., 16., 17., 18., 19.]])"
            ]
          },
          "metadata": {},
          "execution_count": 16
        }
      ]
    },
    {
      "cell_type": "code",
      "source": [
        "ts_2 = torch.from_numpy(arr_2d)\n",
        "ts_2"
      ],
      "metadata": {
        "colab": {
          "base_uri": "https://localhost:8080/"
        },
        "id": "GGLxlZ3B-I8P",
        "outputId": "2ec10d4b-19d5-486b-9272-eaafdef37700"
      },
      "execution_count": 17,
      "outputs": [
        {
          "output_type": "execute_result",
          "data": {
            "text/plain": [
              "tensor([[ 0.,  1.,  2.,  3.,  4.],\n",
              "        [ 5.,  6.,  7.,  8.,  9.],\n",
              "        [10., 11., 12., 13., 14.],\n",
              "        [15., 16., 17., 18., 19.]], dtype=torch.float64)"
            ]
          },
          "metadata": {},
          "execution_count": 17
        }
      ]
    },
    {
      "cell_type": "code",
      "source": [
        "arr_1[0] = 67\n",
        "print(arr_1)\n",
        "print(ts)"
      ],
      "metadata": {
        "colab": {
          "base_uri": "https://localhost:8080/"
        },
        "id": "22GoJG4M-f7X",
        "outputId": "addaa31a-85d4-4e55-d86b-4fe4e0f66033"
      },
      "execution_count": 18,
      "outputs": [
        {
          "output_type": "stream",
          "name": "stdout",
          "text": [
            "[67  2  3  4  5  6  7  8]\n",
            "tensor([67,  2,  3,  4,  5,  6,  7,  8])\n"
          ]
        }
      ]
    },
    {
      "cell_type": "markdown",
      "source": [
        "#### Tensor not linked to numpy :"
      ],
      "metadata": {
        "id": "tkbcC5G9_r7X"
      }
    },
    {
      "cell_type": "code",
      "source": [
        "arr_3 = np.arange(1, 9)\n",
        "arr_3"
      ],
      "metadata": {
        "colab": {
          "base_uri": "https://localhost:8080/"
        },
        "id": "gbwPrK28-8UA",
        "outputId": "a3efde49-9db6-434c-b8de-2416038abf20"
      },
      "execution_count": 19,
      "outputs": [
        {
          "output_type": "execute_result",
          "data": {
            "text/plain": [
              "array([1, 2, 3, 4, 5, 6, 7, 8])"
            ]
          },
          "metadata": {},
          "execution_count": 19
        }
      ]
    },
    {
      "cell_type": "code",
      "source": [
        "ts_3 = torch.tensor(arr_3)\n",
        "ts_3"
      ],
      "metadata": {
        "colab": {
          "base_uri": "https://localhost:8080/"
        },
        "id": "9QlHf9Kx_aJf",
        "outputId": "ee8aab29-84c2-4dd4-c41e-434bb75ef24e"
      },
      "execution_count": 20,
      "outputs": [
        {
          "output_type": "execute_result",
          "data": {
            "text/plain": [
              "tensor([1, 2, 3, 4, 5, 6, 7, 8])"
            ]
          },
          "metadata": {},
          "execution_count": 20
        }
      ]
    },
    {
      "cell_type": "code",
      "source": [
        "arr_3[0] = 999\n",
        "arr_3"
      ],
      "metadata": {
        "colab": {
          "base_uri": "https://localhost:8080/"
        },
        "id": "d-voih4K_gaf",
        "outputId": "e0e3524b-0321-449e-9d61-a795f211003f"
      },
      "execution_count": 21,
      "outputs": [
        {
          "output_type": "execute_result",
          "data": {
            "text/plain": [
              "array([999,   2,   3,   4,   5,   6,   7,   8])"
            ]
          },
          "metadata": {},
          "execution_count": 21
        }
      ]
    },
    {
      "cell_type": "code",
      "source": [
        "ts_3"
      ],
      "metadata": {
        "colab": {
          "base_uri": "https://localhost:8080/"
        },
        "id": "dAQIeu4r_kN_",
        "outputId": "6dbb429f-fe4b-4ea9-87be-896f4f683d5f"
      },
      "execution_count": 22,
      "outputs": [
        {
          "output_type": "execute_result",
          "data": {
            "text/plain": [
              "tensor([1, 2, 3, 4, 5, 6, 7, 8])"
            ]
          },
          "metadata": {},
          "execution_count": 22
        }
      ]
    },
    {
      "cell_type": "code",
      "source": [
        "ts3 = torch.Tensor(arr_3)\n",
        "ts3"
      ],
      "metadata": {
        "colab": {
          "base_uri": "https://localhost:8080/"
        },
        "id": "pOt6B08f_lVv",
        "outputId": "7acb6212-56e1-43d4-fa23-51c6733be8b6"
      },
      "execution_count": 23,
      "outputs": [
        {
          "output_type": "execute_result",
          "data": {
            "text/plain": [
              "tensor([999.,   2.,   3.,   4.,   5.,   6.,   7.,   8.])"
            ]
          },
          "metadata": {},
          "execution_count": 23
        }
      ]
    },
    {
      "cell_type": "code",
      "source": [
        "# Allocate a memory/placeholder\n",
        "torch.empty(3,3)"
      ],
      "metadata": {
        "colab": {
          "base_uri": "https://localhost:8080/"
        },
        "id": "sCIbGYJnEWoQ",
        "outputId": "24995862-e89e-439c-dc59-f4792a053585"
      },
      "execution_count": 24,
      "outputs": [
        {
          "output_type": "execute_result",
          "data": {
            "text/plain": [
              "tensor([[-6.4802e+30,  3.0637e-41,  3.3631e-44],\n",
              "        [ 0.0000e+00,         nan,  6.0000e+00],\n",
              "        [ 1.1578e+27,  1.1362e+30,  7.1547e+22]])"
            ]
          },
          "metadata": {},
          "execution_count": 24
        }
      ]
    },
    {
      "cell_type": "code",
      "source": [
        "torch.zeros(4, 4, dtype=torch.int64)"
      ],
      "metadata": {
        "colab": {
          "base_uri": "https://localhost:8080/"
        },
        "id": "BkKwl0xqEoin",
        "outputId": "f850def5-cf96-47cc-b7e9-29310b3e1af4"
      },
      "execution_count": 27,
      "outputs": [
        {
          "output_type": "execute_result",
          "data": {
            "text/plain": [
              "tensor([[0, 0, 0, 0],\n",
              "        [0, 0, 0, 0],\n",
              "        [0, 0, 0, 0],\n",
              "        [0, 0, 0, 0]])"
            ]
          },
          "metadata": {},
          "execution_count": 27
        }
      ]
    },
    {
      "cell_type": "code",
      "source": [
        "torch.arange(0, 18, 2).reshape(3,3)"
      ],
      "metadata": {
        "colab": {
          "base_uri": "https://localhost:8080/"
        },
        "id": "3_mrGYm2EvWo",
        "outputId": "f2810f33-3eb6-435e-eea6-524b074be029"
      },
      "execution_count": 28,
      "outputs": [
        {
          "output_type": "execute_result",
          "data": {
            "text/plain": [
              "tensor([[ 0,  2,  4],\n",
              "        [ 6,  8, 10],\n",
              "        [12, 14, 16]])"
            ]
          },
          "metadata": {},
          "execution_count": 28
        }
      ]
    },
    {
      "cell_type": "code",
      "source": [
        "torch.linspace(0, 10, 18)"
      ],
      "metadata": {
        "colab": {
          "base_uri": "https://localhost:8080/"
        },
        "id": "RY-qBpvFFPf_",
        "outputId": "d6baac92-e4c1-40c1-ff5a-dfc013438027"
      },
      "execution_count": 31,
      "outputs": [
        {
          "output_type": "execute_result",
          "data": {
            "text/plain": [
              "tensor([ 0.0000,  0.5882,  1.1765,  1.7647,  2.3529,  2.9412,  3.5294,  4.1176,\n",
              "         4.7059,  5.2941,  5.8824,  6.4706,  7.0588,  7.6471,  8.2353,  8.8235,\n",
              "         9.4118, 10.0000])"
            ]
          },
          "metadata": {},
          "execution_count": 31
        }
      ]
    },
    {
      "cell_type": "code",
      "source": [
        "torch.tensor([1,2,3])"
      ],
      "metadata": {
        "colab": {
          "base_uri": "https://localhost:8080/"
        },
        "id": "kyYaMPU8FVQ_",
        "outputId": "71e16c6f-4b5f-46a4-caf1-f5a3d3311f1d"
      },
      "execution_count": 32,
      "outputs": [
        {
          "output_type": "execute_result",
          "data": {
            "text/plain": [
              "tensor([1, 2, 3])"
            ]
          },
          "metadata": {},
          "execution_count": 32
        }
      ]
    },
    {
      "cell_type": "code",
      "source": [
        "ts_2 = ts_2.type(torch.int64)\n",
        "ts_2"
      ],
      "metadata": {
        "colab": {
          "base_uri": "https://localhost:8080/"
        },
        "id": "F0iCmnbtFjuX",
        "outputId": "a9b3a37c-d8ed-4fe8-c72b-58a8704782c1"
      },
      "execution_count": 33,
      "outputs": [
        {
          "output_type": "execute_result",
          "data": {
            "text/plain": [
              "tensor([[ 0,  1,  2,  3,  4],\n",
              "        [ 5,  6,  7,  8,  9],\n",
              "        [10, 11, 12, 13, 14],\n",
              "        [15, 16, 17, 18, 19]])"
            ]
          },
          "metadata": {},
          "execution_count": 33
        }
      ]
    },
    {
      "cell_type": "markdown",
      "source": [
        "#### Random samples from uniform distribution :"
      ],
      "metadata": {
        "id": "ImlIFGVZGqUP"
      }
    },
    {
      "cell_type": "code",
      "source": [
        "torch.rand(5,6)"
      ],
      "metadata": {
        "colab": {
          "base_uri": "https://localhost:8080/"
        },
        "id": "9vyC4MPPGcrf",
        "outputId": "d8223249-8b4a-426b-b000-f44214f4b79e"
      },
      "execution_count": 34,
      "outputs": [
        {
          "output_type": "execute_result",
          "data": {
            "text/plain": [
              "tensor([[0.7148, 0.5677, 0.1376, 0.2565, 0.9701, 0.4828],\n",
              "        [0.9062, 0.8401, 0.9084, 0.6314, 0.3491, 0.3931],\n",
              "        [0.7612, 0.2935, 0.4993, 0.5495, 0.3239, 0.5771],\n",
              "        [0.3991, 0.8156, 0.8362, 0.7787, 0.6628, 0.2685],\n",
              "        [0.7654, 0.3730, 0.1325, 0.6538, 0.9916, 0.4799]])"
            ]
          },
          "metadata": {},
          "execution_count": 34
        }
      ]
    },
    {
      "cell_type": "markdown",
      "source": [
        "#### Random samples from standard normal distribution :"
      ],
      "metadata": {
        "id": "Q-IKoxJXGyRf"
      }
    },
    {
      "cell_type": "code",
      "source": [
        "torch.randn(5,6)"
      ],
      "metadata": {
        "colab": {
          "base_uri": "https://localhost:8080/"
        },
        "id": "LLQW57HhG0SZ",
        "outputId": "5144b4df-5c0c-4c44-bc1e-c6221d85ace0"
      },
      "execution_count": 35,
      "outputs": [
        {
          "output_type": "execute_result",
          "data": {
            "text/plain": [
              "tensor([[-8.1440e-04,  1.4749e-01, -1.4111e-01, -3.2290e-01, -4.9863e+00,\n",
              "         -9.0856e-01],\n",
              "        [ 6.9325e-01,  1.4722e+00,  2.4181e-01, -8.7337e-01, -1.3918e+00,\n",
              "         -1.1394e+00],\n",
              "        [-1.4920e+00, -1.1649e+00, -8.1038e-01, -2.3070e-01, -1.5525e+00,\n",
              "         -3.4707e-01],\n",
              "        [-3.3485e-01, -1.2151e+00, -1.0923e+00, -3.7251e-01,  2.0500e-01,\n",
              "          8.2873e-01],\n",
              "        [-2.3861e+00,  8.3957e-02,  1.2036e-01, -5.7526e-01, -1.7348e+00,\n",
              "          1.3557e+00]])"
            ]
          },
          "metadata": {},
          "execution_count": 35
        }
      ]
    },
    {
      "cell_type": "code",
      "source": [
        "torch.randint(low=0, high=10, size=(6,6))\n",
        "# High is exlusive"
      ],
      "metadata": {
        "colab": {
          "base_uri": "https://localhost:8080/"
        },
        "id": "8uJYRha3G57_",
        "outputId": "390f58de-19d7-4d55-a5a6-b3ca054ae59d"
      },
      "execution_count": 36,
      "outputs": [
        {
          "output_type": "execute_result",
          "data": {
            "text/plain": [
              "tensor([[3, 8, 4, 5, 3, 6],\n",
              "        [5, 9, 8, 8, 7, 1],\n",
              "        [6, 7, 3, 4, 5, 6],\n",
              "        [0, 0, 1, 7, 6, 2],\n",
              "        [9, 9, 4, 0, 1, 2],\n",
              "        [4, 4, 6, 8, 9, 9]])"
            ]
          },
          "metadata": {},
          "execution_count": 36
        }
      ]
    },
    {
      "cell_type": "code",
      "source": [
        "torch.rand_like(ts3)"
      ],
      "metadata": {
        "colab": {
          "base_uri": "https://localhost:8080/"
        },
        "id": "1IY1XmerHC53",
        "outputId": "48201e58-4fbe-478d-8f65-b116b9ee5f5e"
      },
      "execution_count": 37,
      "outputs": [
        {
          "output_type": "execute_result",
          "data": {
            "text/plain": [
              "tensor([0.0985, 0.5365, 0.2875, 0.5172, 0.0940, 0.3681, 0.6268, 0.8727])"
            ]
          },
          "metadata": {},
          "execution_count": 37
        }
      ]
    },
    {
      "cell_type": "code",
      "source": [
        "torch.randn_like(ts3)"
      ],
      "metadata": {
        "colab": {
          "base_uri": "https://localhost:8080/"
        },
        "id": "OHbFTexwHeQh",
        "outputId": "708506e7-dba1-460b-f036-8d06211de921"
      },
      "execution_count": 38,
      "outputs": [
        {
          "output_type": "execute_result",
          "data": {
            "text/plain": [
              "tensor([ 1.2247, -1.0732,  1.6091,  0.9392, -2.6469, -0.4293,  0.7544,  0.2217])"
            ]
          },
          "metadata": {},
          "execution_count": 38
        }
      ]
    },
    {
      "cell_type": "markdown",
      "source": [
        "#### Set seed for random values : "
      ],
      "metadata": {
        "id": "eJ0v2q4IHwYf"
      }
    },
    {
      "cell_type": "code",
      "source": [
        "torch.manual_seed(100)\n",
        "torch.rand(2,3)"
      ],
      "metadata": {
        "colab": {
          "base_uri": "https://localhost:8080/"
        },
        "id": "yavr77CQHiVH",
        "outputId": "4fb1cbcf-3573-4a1f-8f59-f2f3bdd0a63c"
      },
      "execution_count": 40,
      "outputs": [
        {
          "output_type": "execute_result",
          "data": {
            "text/plain": [
              "tensor([[0.1117, 0.8158, 0.2626],\n",
              "        [0.4839, 0.6765, 0.7539]])"
            ]
          },
          "metadata": {},
          "execution_count": 40
        }
      ]
    },
    {
      "cell_type": "code",
      "source": [
        "torch.manual_seed(100)\n",
        "torch.rand(2,3)"
      ],
      "metadata": {
        "colab": {
          "base_uri": "https://localhost:8080/"
        },
        "id": "f-7de9Q8IAYu",
        "outputId": "c241cbc5-c576-49ac-da40-c3d122b063e4"
      },
      "execution_count": 41,
      "outputs": [
        {
          "output_type": "execute_result",
          "data": {
            "text/plain": [
              "tensor([[0.1117, 0.8158, 0.2626],\n",
              "        [0.4839, 0.6765, 0.7539]])"
            ]
          },
          "metadata": {},
          "execution_count": 41
        }
      ]
    },
    {
      "cell_type": "code",
      "source": [
        "torch.rand(2,3)"
      ],
      "metadata": {
        "colab": {
          "base_uri": "https://localhost:8080/"
        },
        "id": "gDKgjvWnIMen",
        "outputId": "e8f0cd58-03bb-44a3-8615-c660f716ff91"
      },
      "execution_count": 42,
      "outputs": [
        {
          "output_type": "execute_result",
          "data": {
            "text/plain": [
              "tensor([[0.2627, 0.0428, 0.2080],\n",
              "        [0.1180, 0.1217, 0.7356]])"
            ]
          },
          "metadata": {},
          "execution_count": 42
        }
      ]
    },
    {
      "cell_type": "code",
      "source": [
        ""
      ],
      "metadata": {
        "id": "H_CRsitqIOFv"
      },
      "execution_count": null,
      "outputs": []
    }
  ]
}